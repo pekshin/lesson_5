{
 "cells": [
  {
   "cell_type": "markdown",
   "metadata": {},
   "source": [
    "# HomeWork\n",
    "## 1,2,5 exercise"
   ]
  },
  {
   "cell_type": "code",
   "execution_count": 3,
   "metadata": {},
   "outputs": [],
   "source": [
    "import sobol_seq\n",
    "import numpy as np\n",
    "from scipy.integrate import dblquad, tplquad, nquad\n",
    "import matplotlib.pyplot as plt"
   ]
  },
  {
   "cell_type": "markdown",
   "metadata": {},
   "source": [
    "## 1. Implement integration over a rectangular domain with a double Legendre quadrature."
   ]
  },
  {
   "cell_type": "markdown",
   "metadata": {},
   "source": [
    "Okay ,so i choose to integrate this function:  $\\ y^2 + 2*x^2 $"
   ]
  },
  {
   "cell_type": "code",
   "execution_count": 13,
   "metadata": {},
   "outputs": [],
   "source": [
    "def f(x,y):\n",
    "    r2 = 2*x**2 + y**2\n",
    "    return r2"
   ]
  },
  {
   "cell_type": "markdown",
   "metadata": {},
   "source": [
    "Now, i'll write integration over a rectangular domain with a double Legendre quadrature"
   ]
  },
  {
   "cell_type": "code",
   "execution_count": 22,
   "metadata": {},
   "outputs": [],
   "source": [
    "def integration_with_rectangular_double_Legendre(f):\n",
    "    total_integr = 0\n",
    "    a1, b1 = 0, 1\n",
    "    a2, b2 = 2, 3\n",
    "    n=1000\n",
    "    m=1000\n",
    "     \n",
    "    \n",
    "    for i in range(n):\n",
    "        x = a1 + (b1 - a1) * (i + 0.5)/n\n",
    "        \n",
    "        for j in range(m):      \n",
    "            y = a2 + (b2 - a2) * (j + 0.5)/m\n",
    "            total_integr += f(x, y) * (b2 - a2)*(b1 - a1)/(n * m)\n",
    "            \n",
    "    return(total_integr)"
   ]
  },
  {
   "cell_type": "code",
   "execution_count": 23,
   "metadata": {},
   "outputs": [
    {
     "name": "stdout",
     "output_type": "stream",
     "text": [
      "6.999999750000026\n"
     ]
    }
   ],
   "source": [
    "total_integral = integration_with_rectangular_double_Legendre (f)\n",
    "print (total_integral)"
   ]
  },
  {
   "cell_type": "markdown",
   "metadata": {},
   "source": [
    "https://docs.scipy.org/doc/scipy/reference/generated/scipy.integrate.dblquad.html"
   ]
  },
  {
   "cell_type": "code",
   "execution_count": 28,
   "metadata": {},
   "outputs": [
    {
     "name": "stdout",
     "output_type": "stream",
     "text": [
      "Right answer for this task is  (7.0, 1.0717696586673251e-13)\n",
      "We have a very little difference:  2.499999736116365e-07\n"
     ]
    }
   ],
   "source": [
    "a1, b1 = 0, 1\n",
    "a2,b2 = 2, 3\n",
    "exact = dblquad(f, a2, b2, lambda x: a1, lambda x: b1)\n",
    "print ('Right answer for this task is ', exact)\n",
    "print ('We have a very little difference: ',exact[0]-total_integral)"
   ]
  },
  {
   "cell_type": "markdown",
   "metadata": {},
   "source": [
    "We can see, that we get a very good answer."
   ]
  },
  {
   "cell_type": "markdown",
   "metadata": {},
   "source": [
    "## Exercise 2 Implement integration over a trangular domain with a mixed Legendre/Jacobi quadrature. "
   ]
  },
  {
   "cell_type": "code",
   "execution_count": null,
   "metadata": {},
   "outputs": [],
   "source": []
  },
  {
   "cell_type": "code",
   "execution_count": null,
   "metadata": {},
   "outputs": [],
   "source": []
  },
  {
   "cell_type": "code",
   "execution_count": null,
   "metadata": {},
   "outputs": [],
   "source": []
  },
  {
   "cell_type": "code",
   "execution_count": null,
   "metadata": {},
   "outputs": [],
   "source": []
  },
  {
   "cell_type": "code",
   "execution_count": null,
   "metadata": {},
   "outputs": [],
   "source": []
  },
  {
   "cell_type": "code",
   "execution_count": null,
   "metadata": {},
   "outputs": [],
   "source": []
  },
  {
   "cell_type": "markdown",
   "metadata": {},
   "source": [
    "## Exercise 5 Use the Sobol sequence to calculate the value of\n",
    "$$\n",
    "\\iint\\limits_D e^{-(x^2 + y^2)} \\, dx\\, dy  \\;,\n",
    "$$\n",
    "where $D$ is the unit square. Compare to the exact answer (which can be expressed in terms of the error function).\n"
   ]
  },
  {
   "cell_type": "code",
   "execution_count": 55,
   "metadata": {},
   "outputs": [],
   "source": [
    "def f1(x,y) :\n",
    "    r2 = np.exp(-(x**2 + y**2))\n",
    "    return r2\n",
    "\n",
    "\n",
    "\n",
    "def inside_r  (x, y, r):\n",
    "    return x*y < r\n",
    "\n",
    "def sobol_seq_integrate(f, n, r=1):\n",
    "    x, y = sobol_seq.i4_sobol_generate(2, int(n)).T\n",
    "    inside = inside_r(x, y, r)\n",
    "    \n",
    "    integral = np.sum(f(x[inside], y[inside]) / int(n))\n",
    "    return integral"
   ]
  },
  {
   "cell_type": "code",
   "execution_count": 56,
   "metadata": {},
   "outputs": [
    {
     "name": "stdout",
     "output_type": "stream",
     "text": [
      "Calculate integral: 0.5578148174885635\n",
      "Exact by libarary: 0.5577462853510337\n",
      "Difference:  6.85321375298864e-05\n"
     ]
    }
   ],
   "source": [
    "a1,b1 = 0,1\n",
    "a2,b2 = 0,1\n",
    "\n",
    "sobol_seq_integral = sobol_seq_integrate(f1, 10000)\n",
    "exact_integral = dblquad(f1, a2, b2, lambda x : a1, lambda x : b1)\n",
    "print ('Calculate integral:', sobol_seq_integral)\n",
    "print ('Exact by libarary:', exact_integral[0])\n",
    "print ('Difference: ', sobol_seq_integral - exact_integral[0])"
   ]
  },
  {
   "cell_type": "code",
   "execution_count": null,
   "metadata": {},
   "outputs": [],
   "source": []
  },
  {
   "cell_type": "code",
   "execution_count": null,
   "metadata": {},
   "outputs": [],
   "source": []
  }
 ],
 "metadata": {
  "kernelspec": {
   "display_name": "Python 3",
   "language": "python",
   "name": "python3"
  },
  "language_info": {
   "codemirror_mode": {
    "name": "ipython",
    "version": 3
   },
   "file_extension": ".py",
   "mimetype": "text/x-python",
   "name": "python",
   "nbconvert_exporter": "python",
   "pygments_lexer": "ipython3",
   "version": "3.7.0"
  }
 },
 "nbformat": 4,
 "nbformat_minor": 2
}
